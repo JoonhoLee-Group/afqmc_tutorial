{
 "cells": [
  {
   "cell_type": "code",
   "execution_count": 1,
   "metadata": {},
   "outputs": [
    {
     "name": "stdout",
     "output_type": "stream",
     "text": [
      "(19, 19)\n",
      "8.816090421010383e-15\n",
      "1.3076028294047347e-14\n",
      "0.0\n"
     ]
    },
    {
     "name": "stderr",
     "output_type": "stream",
     "text": [
      "/Users/formic/pyscf/pyscf/dft/libxc.py:772: UserWarning: Since PySCF-2.3, B3LYP (and B3P86) are changed to the VWN-RPA variant, corresponding to the original definition by Stephens et al. (issue 1480) and the same as the B3LYP functional in Gaussian. To restore the VWN5 definition, you can put the setting \"B3LYP_WITH_VWN5 = True\" in pyscf_conf.py\n",
      "  warnings.warn('Since PySCF-2.3, B3LYP (and B3P86) are changed to the VWN-RPA variant, '\n"
     ]
    }
   ],
   "source": [
    "import numpy as np\n",
    "from pyscf import gto, scf, ao2mo, lo, tools\n",
    "import scipy\n",
    "\n",
    "\n",
    "def get_hamiltonian(mol,orth):\n",
    "    '''Get the hamiltonian matrix elements with respect to the orthogonalized basis'''\n",
    "    hcore = mol.intor_symmetric('int1e_kin') + mol.intor_symmetric('int1e_nuc')\n",
    "    hcore_orth = orth.conj().T @ hcore @ orth\n",
    "    #hcore_orth = np.einsum('pi,pq,qj->ij', orth, hcore, orth)\n",
    "    eri = mol.ao2mo(orth)\n",
    "    #Not imposing symmetry here\n",
    "    eri = ao2mo.restore(1, np.asarray(eri), mol.nao)\n",
    "    return hcore_orth, eri\n",
    "\n",
    "def read_fcidump(fname, norb):\n",
    "    \"\"\"\n",
    "\n",
    "    :param fname: electron integrals dumped by pyscf\n",
    "    :param norb: number of orbitals\n",
    "    :return: electron integrals for 2nd quantization with chemist's notation\n",
    "    \"\"\"\n",
    "    v2e = np.zeros((norb, norb, norb, norb))\n",
    "    h1e = np.zeros((norb, norb))\n",
    "\n",
    "    with open(fname, \"r\") as f:\n",
    "        lines = f.readlines()\n",
    "        for line, info in enumerate(lines):\n",
    "            if line < 4:\n",
    "                continue\n",
    "            line_content = info.split()\n",
    "            integral = float(line_content[0])\n",
    "            p, q, r, s = [int(i_index) for i_index in line_content[1:5]]\n",
    "            if r != 0:\n",
    "                # v2e[p,q,r,s] is with chemist notation (pq|rs)=(qp|rs)=(pq|sr)=(qp|sr)\n",
    "                v2e[p-1, q-1, r-1, s-1] = integral\n",
    "                v2e[q-1, p-1, r-1, s-1] = integral\n",
    "                v2e[p-1, q-1, s-1, r-1] = integral\n",
    "                v2e[q-1, p-1, s-1, r-1] = integral\n",
    "            elif p != 0:\n",
    "                h1e[p-1, q-1] = integral\n",
    "                h1e[q-1, p-1] = integral\n",
    "            else:\n",
    "                nuc = integral\n",
    "    return h1e, v2e, nuc\n",
    "\n",
    "def hamiltonian_integral(mol):\n",
    "    # 1e & 2e integrals\n",
    "    s_mat = mol.intor('int1e_ovlp')\n",
    "    ao_coeff = lo.orth.lowdin(s_mat)\n",
    "    norb = ao_coeff.shape[0]\n",
    "    import tempfile\n",
    "    ftmp = tempfile.NamedTemporaryFile()\n",
    "    tools.fcidump.from_mo(mol, ftmp.name, ao_coeff)\n",
    "    h1e, eri, nuc = read_fcidump(ftmp.name, norb)\n",
    "    # Cholesky decomposition\n",
    "    v2e = eri.reshape((norb**2, -1))\n",
    "    u, s, v = scipy.linalg.svd(v2e)\n",
    "    l_tensor = u * np.sqrt(s)\n",
    "    l_tensor = l_tensor.T\n",
    "    l_tensor = l_tensor.reshape(l_tensor.shape[0], norb, norb)\n",
    "    return h1e, eri, nuc, l_tensor\n",
    "\n",
    "mol = gto.Mole()\n",
    "mol.build(\n",
    "    atom = 'H 0 0 0; F 0 0 1.1',  # in Angstrom\n",
    "    basis = 'ccpvdz',\n",
    "    symmetry = True,\n",
    ")\n",
    "\n",
    "ovlp_mat = mol.intor('int1e_ovlp')\n",
    "X = lo.orth.lowdin(ovlp_mat)\n",
    "\n",
    "hcore, myeri = get_hamiltonian(mol,X)\n",
    "h1e, eri, nuc, l_tensor = hamiltonian_integral(mol)\n",
    "\n",
    "print(hcore.shape)\n",
    "print(np.linalg.norm(hcore-h1e))\n",
    "print(np.linalg.norm(myeri-eri))\n",
    "print(nuc - mol.energy_nuc())"
   ]
  }
 ],
 "metadata": {
  "kernelspec": {
   "display_name": "base",
   "language": "python",
   "name": "python3"
  },
  "language_info": {
   "codemirror_mode": {
    "name": "ipython",
    "version": 3
   },
   "file_extension": ".py",
   "mimetype": "text/x-python",
   "name": "python",
   "nbconvert_exporter": "python",
   "pygments_lexer": "ipython3",
   "version": "3.11.4"
  },
  "orig_nbformat": 4
 },
 "nbformat": 4,
 "nbformat_minor": 2
}
