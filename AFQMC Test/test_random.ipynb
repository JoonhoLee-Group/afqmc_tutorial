{
 "cells": [
  {
   "cell_type": "code",
   "execution_count": 8,
   "metadata": {},
   "outputs": [
    {
     "name": "stdout",
     "output_type": "stream",
     "text": [
      "[[ 1.11490901  1.1882115   1.41804512]\n",
      " [-0.36769038  0.24881411  0.38049812]\n",
      " [ 0.6352939  -1.09419838  0.44031896]]\n",
      "[[-0.84903172  1.5081906  -0.68171421]\n",
      " [ 0.06852704 -0.57467491 -0.53778764]\n",
      " [-0.60896204 -0.64299123  0.23048472]]\n"
     ]
    }
   ],
   "source": [
    "import numpy as np\n",
    "\n",
    "np.random.seed(114514)\n",
    "print(np.random.normal(0. ,1. , (3,3)))\n",
    "print(np.random.normal(0. ,1. , (3,3)))"
   ]
  }
 ],
 "metadata": {
  "kernelspec": {
   "display_name": "base",
   "language": "python",
   "name": "python3"
  },
  "language_info": {
   "codemirror_mode": {
    "name": "ipython",
    "version": 3
   },
   "file_extension": ".py",
   "mimetype": "text/x-python",
   "name": "python",
   "nbconvert_exporter": "python",
   "pygments_lexer": "ipython3",
   "version": "3.11.4"
  },
  "orig_nbformat": 4
 },
 "nbformat": 4,
 "nbformat_minor": 2
}
