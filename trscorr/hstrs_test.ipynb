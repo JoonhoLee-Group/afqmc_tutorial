{
 "cells": [
  {
   "cell_type": "code",
   "execution_count": 6,
   "metadata": {},
   "outputs": [
    {
     "name": "stdout",
     "output_type": "stream",
     "text": [
      "0.38187577043394255\n",
      "0.9789584020628089\n",
      "[0.98657061-0.16333532j 0.99945134-0.0331214j  0.95422934+0.29907584j ...\n",
      " 0.99454852+0.10427486j 0.97734274-0.21166286j 0.99808512-0.06185544j]\n",
      "(0.9786334890135213, 0.030429609292002485)\n",
      "[0.99882551-0.00117311j 0.91295764+0.07986225j 1.26880628+0.36062181j ...\n",
      " 0.83071634+0.14328901j 0.40113555-0.31775837j 0.9577524 +0.04051048j]\n",
      "(0.9759762787784101, 0.3597312773621155)\n",
      "k mean =  -0.7829556561533525\n",
      "k std =  5.1721648909766795\n",
      "l mean =  0.19008763647462587\n",
      "l std =  5.931682096531431\n",
      "(1.25138067767977, 6.577011605029763)\n"
     ]
    }
   ],
   "source": [
    "import numpy\n",
    "\n",
    "nsamples = int(1e4)\n",
    "\n",
    "def quartic(x):\n",
    "\treturn numpy.exp(-x**4)\n",
    "\n",
    "def quartic_hs_transform(x, nsamples = nsamples):\n",
    "    k = numpy.random.randn(nsamples)\n",
    "    fx = numpy.exp(-1.j*numpy.sqrt(2)*k*x**2) \n",
    "    # return fx.mean(), fx.std()/numpy.sqrt(nsamples)\n",
    "    return fx\n",
    "\n",
    "def quartic_double_hs_transform(x, nsamples = nsamples):\n",
    "    k = numpy.random.randn(nsamples)\n",
    "    l = numpy.random.randn(nsamples)\n",
    "    b = 2. * 1.j * numpy.sqrt(2)*k \n",
    "    fx = numpy.exp(-1.j*numpy.sqrt(b)*l*x) \n",
    "    # return fx.mean(), fx.std()/numpy.sqrt(nsamples)\n",
    "    return fx\n",
    "\n",
    "def quartic_hs_transform_sigma(x, nsamples = nsamples):\n",
    "    k = numpy.random.randn(nsamples)\n",
    "    #print(\"k mean = \", k.mean())\n",
    "    #print(\"k std = \", k.std())\n",
    "    fx = numpy.exp(-1.j*numpy.sqrt(2)*k*x**2) \n",
    "    return fx.real.mean(), fx.real.std()\n",
    "\n",
    "def quartic_double_hs_transform_sigma(x, nsamples = nsamples):\n",
    "    k = numpy.random.randn(nsamples)\n",
    "    l = numpy.random.randn(nsamples)\n",
    "    #print(\"k mean = \", k.mean())\n",
    "    #print(\"k std = \", k.std())\n",
    "    #print(\"l mean = \", l.mean())\n",
    "    #print(\"l std = \", l.std())\n",
    "    b = 2. * 1.j * numpy.sqrt(2)*k \n",
    "    fx = numpy.exp(-1.j*numpy.sqrt(b)*l*x).ravel()\n",
    "    return fx.real.mean(), fx.real.std()\n",
    "\n",
    "def quartic_double_hs_uniform(x, nsamples = 100):\n",
    "    k = numpy.random.uniform(-10,10,nsamples)\n",
    "    l = numpy.random.uniform(-10,10,nsamples)\n",
    "    print(\"k mean = \", k.mean())\n",
    "    print(\"k std = \", k.std())\n",
    "    print(\"l mean = \", l.mean())\n",
    "    print(\"l std = \", l.std())\n",
    "    b = 2. * 1.j * numpy.sqrt(2)*k \n",
    "    fx = numpy.zeros((nsamples, nsamples),dtype = numpy.complex128)\n",
    "    for i in range(nsamples):\n",
    "        for j in range(nsamples):\n",
    "            fx[i,j] = numpy.exp(-k[i]**2/2) * numpy.exp(-l[j]**2/2) * numpy.exp(numpy.emath.sqrt(b[i])*l[j]*x)/(2*numpy.pi) * 400\n",
    "    fx = fx.ravel()\n",
    "    return fx.real.mean(), fx.real.std()\n",
    "\n",
    "def quartic_double_hs_halfgs(x, nsamples = nsamples):\n",
    "    rng = np.random.default_rng()\n",
    "    \n",
    "\n",
    "\n",
    "x = numpy.random.randn(10)\n",
    "print(x[0])\n",
    "print(quartic(x[0]))\n",
    "print(quartic_hs_transform(x[0]))\n",
    "print(quartic_hs_transform_sigma(x[0]))\n",
    "print(quartic_double_hs_transform(x[0]))\n",
    "print(quartic_double_hs_transform_sigma(x[0]))\n",
    "print(quartic_double_hs_uniform(x[0]))\n",
    "# quartic_res = numpy.array([quartic(xi) for xi in x])\n",
    "# hs_res = numpy.array([quartic_hs_transform_sigma(xi)[0] for xi in x])\n",
    "# double_hs_res = numpy.array([quartic_double_hs_transform_sigma(xi)[0] for xi in x])\n",
    "# print(numpy.linalg.norm(hs_res - quartic_res))\n",
    "# print(numpy.linalg.norm(double_hs_res - quartic_res))\n"
   ]
  },
  {
   "cell_type": "code",
   "execution_count": 11,
   "metadata": {},
   "outputs": [
    {
     "name": "stdout",
     "output_type": "stream",
     "text": [
      "0.1\n",
      "0.9999000049998333\n",
      "(0.9999022747141862, 0.00013413372062497485)\n",
      "0.999432921619295 0.10505505696134879\n"
     ]
    }
   ],
   "source": [
    "y = 0.1\n",
    "print(y)\n",
    "print(quartic(y))\n",
    "print(quartic_hs_transform_sigma(y))\n",
    "print(quartic_double_hs_transform_sigma(y)[0].real, quartic_double_hs_transform_sigma(y)[1])"
   ]
  },
  {
   "cell_type": "code",
   "execution_count": 89,
   "metadata": {},
   "outputs": [
    {
     "data": {
      "image/png": "[encoded data removed]",
      "text/plain": [
       "<Figure size 640x480 with 1 Axes>"
      ]
     },
     "metadata": {},
     "output_type": "display_data"
    }
   ],
   "source": [
    "import matplotlib.pyplot as plt\n",
    "\n",
    "samples = numpy.array([i for i in range(nsamples)])\n",
    "fx = quartic_hs_transform(x[0])\n",
    "fx2 = quartic_double_hs_transform(x[0])\n",
    "plt.plot(fx.real, label=\"one hs transform\")\n",
    "plt.plot(fx2.real, label=\"two hs transforms\")\n",
    "plt.legend()\n",
    "plt.show()"
   ]
  },
  {
   "cell_type": "code",
   "execution_count": 29,
   "metadata": {},
   "outputs": [
    {
     "name": "stdout",
     "output_type": "stream",
     "text": [
      "[1.18920712-1.18920712j 1.17725498-1.17725498j 1.16518025-1.16518025j\n",
      " 1.15297908-1.15297908j 1.14064739-1.14064739j 1.12818093-1.12818093j\n",
      " 1.11557516-1.11557516j 1.10282531-1.10282531j 1.08992632-1.08992632j\n",
      " 1.07687284-1.07687284j 1.06365918-1.06365918j 1.05027929-1.05027929j\n",
      " 1.03672673-1.03672673j 1.02299464-1.02299464j 1.0090757 -1.0090757j\n",
      " 0.99496206-0.99496206j 0.98064531-0.98064531j 0.96611643-0.96611643j\n",
      " 0.95136569-0.95136569j 0.93638262-0.93638262j 0.92115587-0.92115587j\n",
      " 0.90567316-0.90567316j 0.88992112-0.88992112j 0.87388519-0.87388519j\n",
      " 0.85754945-0.85754945j 0.84089642-0.84089642j 0.82390686-0.82390686j\n",
      " 0.80655951-0.80655951j 0.78883076-0.78883076j 0.77069429-0.77069429j\n",
      " 0.75212062-0.75212062j 0.7330765 -0.7330765j  0.71352427-0.71352427j\n",
      " 0.69342095-0.69342095j 0.67271713-0.67271713j 0.65135556-0.65135556j\n",
      " 0.62926926-0.62926926j 0.60637903-0.60637903j 0.58259013-0.58259013j\n",
      " 0.55778758-0.55778758j 0.53182959-0.53182959j 0.50453785-0.50453785j\n",
      " 0.47568285-0.47568285j 0.44496056-0.44496056j 0.41195343-0.41195343j\n",
      " 0.37606031-0.37606031j 0.33635857-0.33635857j 0.29129506-0.29129506j\n",
      " 0.23784142-0.23784142j 0.16817928-0.16817928j 0.        +0.j\n",
      " 0.16817928+0.16817928j 0.23784142+0.23784142j 0.29129506+0.29129506j\n",
      " 0.33635857+0.33635857j 0.37606031+0.37606031j 0.41195343+0.41195343j\n",
      " 0.44496056+0.44496056j 0.47568285+0.47568285j 0.50453785+0.50453785j\n",
      " 0.53182959+0.53182959j 0.55778758+0.55778758j 0.58259013+0.58259013j\n",
      " 0.60637903+0.60637903j 0.62926926+0.62926926j 0.65135556+0.65135556j\n",
      " 0.67271713+0.67271713j 0.69342095+0.69342095j 0.71352427+0.71352427j\n",
      " 0.7330765 +0.7330765j  0.75212062+0.75212062j 0.77069429+0.77069429j\n",
      " 0.78883076+0.78883076j 0.80655951+0.80655951j 0.82390686+0.82390686j\n",
      " 0.84089642+0.84089642j 0.85754945+0.85754945j 0.87388519+0.87388519j\n",
      " 0.88992112+0.88992112j 0.90567316+0.90567316j 0.92115587+0.92115587j\n",
      " 0.93638262+0.93638262j 0.95136569+0.95136569j 0.96611643+0.96611643j\n",
      " 0.98064531+0.98064531j 0.99496206+0.99496206j 1.0090757 +1.0090757j\n",
      " 1.02299464+1.02299464j 1.03672673+1.03672673j 1.05027929+1.05027929j\n",
      " 1.06365918+1.06365918j 1.07687284+1.07687284j 1.08992632+1.08992632j\n",
      " 1.10282531+1.10282531j 1.11557516+1.11557516j 1.12818093+1.12818093j\n",
      " 1.14064739+1.14064739j 1.15297908+1.15297908j 1.16518025+1.16518025j\n",
      " 1.17725498+1.17725498j 1.18920712+1.18920712j]\n"
     ]
    }
   ],
   "source": [
    "#test sqrt() in complex plane\n",
    "y = numpy.linspace(-1,1,101)\n",
    "print(numpy.sqrt(2*1j*numpy.sqrt(2)*y))"
   ]
  },
  {
   "cell_type": "code",
   "execution_count": 76,
   "metadata": {},
   "outputs": [
    {
     "data": {
      "text/plain": [
       "(-0.7071067811865475+0.7071067811865476j)"
      ]
     },
     "execution_count": 76,
     "metadata": {},
     "output_type": "execute_result"
    }
   ],
   "source": [
    "new_sqrt(-1j)"
   ]
  }
 ],
 "metadata": {
  "kernelspec": {
   "display_name": "base",
   "language": "python",
   "name": "python3"
  },
  "language_info": {
   "codemirror_mode": {
    "name": "ipython",
    "version": 3
   },
   "file_extension": ".py",
   "mimetype": "text/x-python",
   "name": "python",
   "nbconvert_exporter": "python",
   "pygments_lexer": "ipython3",
   "version": "3.11.4"
  },
  "orig_nbformat": 4
 },
 "nbformat": 4,
 "nbformat_minor": 2
}
